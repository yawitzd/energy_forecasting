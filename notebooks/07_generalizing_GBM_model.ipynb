{
 "cells": [
  {
   "cell_type": "code",
   "execution_count": 1,
   "metadata": {
    "collapsed": false
   },
   "outputs": [
    {
     "name": "stdout",
     "output_type": "stream",
     "text": [
      "/Users/dyawitz/anaconda/envs/py27/bin/python\n"
     ]
    }
   ],
   "source": [
    "import sys\n",
    "print sys.executable\n",
    "\n",
    "paths = ['', '/Users/dyawitz/anaconda/bin', '/Users/dyawitz/anaconda/lib/python27.zip', '/Users/dyawitz/anaconda/lib/python2.7/plat-darwin', '/Users/dyawitz/anaconda/lib/python2.7/plat-mac', '/Users/dyawitz/anaconda/lib/python2.7/plat-mac/lib-scriptpackages', '/Users/dyawitz/anaconda/lib/python2.7/lib-tk', '/Users/dyawitz/anaconda/lib/python2.7/lib-old', '/Users/dyawitz/anaconda/lib/python2.7/lib-dynload', '/Users/dyawitz/anaconda/lib/python2.7/site-packages/Sphinx-1.3.1-py2.7.egg', '/Users/dyawitz/anaconda/lib/python2.7/site-packages/setuptools-18.5-py2.7.egg', '/Users/dyawitz/anaconda/lib/python2.7/site-packages', '/Users/dyawitz/anaconda/lib/python2.7/site-packages/aeosa', '/Users/dyawitz/anaconda/lib/python2.7/site-packages/IPython/extensions', '/Users/dyawitz/.ipython']\n",
    "\n",
    "for i in paths:\n",
    "   sys.path.append(i)"
   ]
  },
  {
   "cell_type": "markdown",
   "metadata": {},
   "source": [
    "Take the files for each region in the NYISO, concatenate them into one, and build a model on them. "
   ]
  },
  {
   "cell_type": "code",
   "execution_count": 3,
   "metadata": {
    "collapsed": true
   },
   "outputs": [],
   "source": [
    "import pandas as pd\n",
    "import numpy as np\n",
    "import matplotlib.pyplot as plt\n",
    "import joblib\n",
    "%matplotlib inline"
   ]
  },
  {
   "cell_type": "code",
   "execution_count": 4,
   "metadata": {
    "collapsed": false
   },
   "outputs": [],
   "source": [
    "weather_dict = joblib.load('weather_dict.pkl')"
   ]
  },
  {
   "cell_type": "code",
   "execution_count": 8,
   "metadata": {
    "collapsed": false
   },
   "outputs": [
    {
     "data": {
      "text/plain": [
       "('kjfk', 'NYC', 'NYC')"
      ]
     },
     "execution_count": 8,
     "metadata": {},
     "output_type": "execute_result"
    }
   ],
   "source": [
    "weather_dict['N.Y.C.']"
   ]
  },
  {
   "cell_type": "code",
   "execution_count": 46,
   "metadata": {
    "collapsed": false
   },
   "outputs": [],
   "source": [
    "region = 'N.Y.C.'\n",
    "place = weather_dict[region][1].lower().replace(' ','')\n",
    "full = pd.read_csv('full_{0}_features.csv'.format(place))"
   ]
  },
  {
   "cell_type": "code",
   "execution_count": 47,
   "metadata": {
    "collapsed": false
   },
   "outputs": [
    {
     "data": {
      "text/html": [
       "<div>\n",
       "<table border=\"1\" class=\"dataframe\">\n",
       "  <thead>\n",
       "    <tr style=\"text-align: right;\">\n",
       "      <th></th>\n",
       "      <th>timestamp</th>\n",
       "      <th>load</th>\n",
       "      <th>weathertime</th>\n",
       "      <th>temperaturef</th>\n",
       "      <th>dewpointf</th>\n",
       "      <th>humidity</th>\n",
       "      <th>sealevelpressurein</th>\n",
       "      <th>winddirection</th>\n",
       "      <th>windspeedmph</th>\n",
       "      <th>precipitationin</th>\n",
       "      <th>dow</th>\n",
       "      <th>doy</th>\n",
       "      <th>day</th>\n",
       "      <th>month</th>\n",
       "      <th>year</th>\n",
       "      <th>hour</th>\n",
       "      <th>minute</th>\n",
       "      <th>t_m24</th>\n",
       "      <th>t_m48</th>\n",
       "      <th>tdif</th>\n",
       "    </tr>\n",
       "  </thead>\n",
       "  <tbody>\n",
       "    <tr>\n",
       "      <th>0</th>\n",
       "      <td>2012-01-01 00:00:00</td>\n",
       "      <td>5061.5</td>\n",
       "      <td>2012-01-01 00:51:00</td>\n",
       "      <td>46</td>\n",
       "      <td>37</td>\n",
       "      <td>71</td>\n",
       "      <td>30.04</td>\n",
       "      <td>WNW</td>\n",
       "      <td>10.4</td>\n",
       "      <td>0</td>\n",
       "      <td>6</td>\n",
       "      <td>1</td>\n",
       "      <td>1</td>\n",
       "      <td>1</td>\n",
       "      <td>2012</td>\n",
       "      <td>0</td>\n",
       "      <td>0</td>\n",
       "      <td>5061.5</td>\n",
       "      <td>5061.5</td>\n",
       "      <td>0</td>\n",
       "    </tr>\n",
       "    <tr>\n",
       "      <th>1</th>\n",
       "      <td>2012-01-01 00:00:00</td>\n",
       "      <td>5061.5</td>\n",
       "      <td>2012-01-01 00:51:00</td>\n",
       "      <td>46</td>\n",
       "      <td>37</td>\n",
       "      <td>71</td>\n",
       "      <td>30.04</td>\n",
       "      <td>WNW</td>\n",
       "      <td>10.4</td>\n",
       "      <td>0</td>\n",
       "      <td>6</td>\n",
       "      <td>1</td>\n",
       "      <td>1</td>\n",
       "      <td>1</td>\n",
       "      <td>2012</td>\n",
       "      <td>0</td>\n",
       "      <td>0</td>\n",
       "      <td>5061.5</td>\n",
       "      <td>5061.5</td>\n",
       "      <td>0</td>\n",
       "    </tr>\n",
       "    <tr>\n",
       "      <th>2</th>\n",
       "      <td>2012-01-01 00:05:00</td>\n",
       "      <td>5030.0</td>\n",
       "      <td>2012-01-01 00:51:00</td>\n",
       "      <td>46</td>\n",
       "      <td>37</td>\n",
       "      <td>71</td>\n",
       "      <td>30.04</td>\n",
       "      <td>WNW</td>\n",
       "      <td>10.4</td>\n",
       "      <td>0</td>\n",
       "      <td>6</td>\n",
       "      <td>1</td>\n",
       "      <td>1</td>\n",
       "      <td>1</td>\n",
       "      <td>2012</td>\n",
       "      <td>0</td>\n",
       "      <td>5</td>\n",
       "      <td>5030.0</td>\n",
       "      <td>5030.0</td>\n",
       "      <td>0</td>\n",
       "    </tr>\n",
       "    <tr>\n",
       "      <th>3</th>\n",
       "      <td>2012-01-01 00:05:00</td>\n",
       "      <td>5030.0</td>\n",
       "      <td>2012-01-01 00:51:00</td>\n",
       "      <td>46</td>\n",
       "      <td>37</td>\n",
       "      <td>71</td>\n",
       "      <td>30.04</td>\n",
       "      <td>WNW</td>\n",
       "      <td>10.4</td>\n",
       "      <td>0</td>\n",
       "      <td>6</td>\n",
       "      <td>1</td>\n",
       "      <td>1</td>\n",
       "      <td>1</td>\n",
       "      <td>2012</td>\n",
       "      <td>0</td>\n",
       "      <td>5</td>\n",
       "      <td>5030.0</td>\n",
       "      <td>5030.0</td>\n",
       "      <td>0</td>\n",
       "    </tr>\n",
       "    <tr>\n",
       "      <th>4</th>\n",
       "      <td>2012-01-01 00:10:00</td>\n",
       "      <td>5011.5</td>\n",
       "      <td>2012-01-01 00:51:00</td>\n",
       "      <td>46</td>\n",
       "      <td>37</td>\n",
       "      <td>71</td>\n",
       "      <td>30.04</td>\n",
       "      <td>WNW</td>\n",
       "      <td>10.4</td>\n",
       "      <td>0</td>\n",
       "      <td>6</td>\n",
       "      <td>1</td>\n",
       "      <td>1</td>\n",
       "      <td>1</td>\n",
       "      <td>2012</td>\n",
       "      <td>0</td>\n",
       "      <td>10</td>\n",
       "      <td>5011.5</td>\n",
       "      <td>5011.5</td>\n",
       "      <td>0</td>\n",
       "    </tr>\n",
       "  </tbody>\n",
       "</table>\n",
       "</div>"
      ],
      "text/plain": [
       "             timestamp    load          weathertime  temperaturef  dewpointf  \\\n",
       "0  2012-01-01 00:00:00  5061.5  2012-01-01 00:51:00            46         37   \n",
       "1  2012-01-01 00:00:00  5061.5  2012-01-01 00:51:00            46         37   \n",
       "2  2012-01-01 00:05:00  5030.0  2012-01-01 00:51:00            46         37   \n",
       "3  2012-01-01 00:05:00  5030.0  2012-01-01 00:51:00            46         37   \n",
       "4  2012-01-01 00:10:00  5011.5  2012-01-01 00:51:00            46         37   \n",
       "\n",
       "   humidity  sealevelpressurein winddirection  windspeedmph  precipitationin  \\\n",
       "0        71               30.04           WNW          10.4                0   \n",
       "1        71               30.04           WNW          10.4                0   \n",
       "2        71               30.04           WNW          10.4                0   \n",
       "3        71               30.04           WNW          10.4                0   \n",
       "4        71               30.04           WNW          10.4                0   \n",
       "\n",
       "   dow  doy  day  month  year  hour  minute   t_m24   t_m48  tdif  \n",
       "0    6    1    1      1  2012     0       0  5061.5  5061.5     0  \n",
       "1    6    1    1      1  2012     0       0  5061.5  5061.5     0  \n",
       "2    6    1    1      1  2012     0       5  5030.0  5030.0     0  \n",
       "3    6    1    1      1  2012     0       5  5030.0  5030.0     0  \n",
       "4    6    1    1      1  2012     0      10  5011.5  5011.5     0  "
      ]
     },
     "execution_count": 47,
     "metadata": {},
     "output_type": "execute_result"
    }
   ],
   "source": [
    "full.head()"
   ]
  },
  {
   "cell_type": "code",
   "execution_count": 48,
   "metadata": {
    "collapsed": true
   },
   "outputs": [],
   "source": [
    "full.dropna(inplace=True)"
   ]
  },
  {
   "cell_type": "code",
   "execution_count": 49,
   "metadata": {
    "collapsed": false
   },
   "outputs": [
    {
     "name": "stdout",
     "output_type": "stream",
     "text": [
      "CPU times: user 55.8 s, sys: 965 ms, total: 56.8 s\n",
      "Wall time: 57.3 s\n"
     ]
    }
   ],
   "source": [
    "%time full['timestamp'] = full['timestamp'].apply(lambda x: pd.to_datetime(x))"
   ]
  },
  {
   "cell_type": "code",
   "execution_count": 50,
   "metadata": {
    "collapsed": true
   },
   "outputs": [],
   "source": [
    "from sklearn.ensemble import GradientBoostingRegressor\n",
    "from sklearn.cross_validation import train_test_split"
   ]
  },
  {
   "cell_type": "code",
   "execution_count": 66,
   "metadata": {
    "collapsed": true
   },
   "outputs": [],
   "source": [
    "features = [\\\n",
    "          'temperaturef',\\\n",
    "#           'dewpointf', \\\n",
    "#           'humidity', \\\n",
    "#           'sealevelpressurein', \\\n",
    "#          'windspeedmph', \\\n",
    "#           'precipitationin',\\\n",
    "            'year',\\\n",
    "          'dow',\\\n",
    "          'doy', \\\n",
    "#           'month',\\\n",
    "#           'hour',\\\n",
    "         'minute',\\\n",
    "#           't_m24', \\\n",
    "#           't_m48', \\\n",
    "#           't_m1',\\\n",
    "         ]"
   ]
  },
  {
   "cell_type": "code",
   "execution_count": 67,
   "metadata": {
    "collapsed": false
   },
   "outputs": [],
   "source": [
    "X_train = full[full.timestamp < pd.to_datetime('2015')][features]\n",
    "X_test = full[full.timestamp >= pd.to_datetime('2015')][features]\n",
    "\n",
    "y_train = full[full.timestamp < pd.to_datetime('2015')]['load']\n",
    "y_test = full[full.timestamp >= pd.to_datetime('2015')]['load']"
   ]
  },
  {
   "cell_type": "code",
   "execution_count": 68,
   "metadata": {
    "collapsed": true
   },
   "outputs": [],
   "source": [
    "gbr = GradientBoostingRegressor(loss='ls', n_estimators=100, max_depth=3, verbose=1, warm_start=True)"
   ]
  },
  {
   "cell_type": "code",
   "execution_count": 69,
   "metadata": {
    "collapsed": false
   },
   "outputs": [
    {
     "name": "stdout",
     "output_type": "stream",
     "text": [
      "      Iter       Train Loss   Remaining Time \n",
      "         1     1433777.9602           40.40s\n",
      "         2     1266661.9115           33.42s\n",
      "         3     1128864.2468           33.91s\n",
      "         4     1016488.9487           33.12s\n",
      "         5      924162.8882           32.86s\n",
      "         6      844857.8927           31.83s\n",
      "         7      778376.1653           31.19s\n",
      "         8      723249.4004           31.27s\n",
      "         9      676961.8092           32.10s\n",
      "        10      639059.8139           32.37s\n",
      "        20      359979.0310           28.17s\n",
      "        30      260246.8057           24.17s\n",
      "        40      216447.4121           20.95s\n",
      "        50      190852.9143           16.88s\n",
      "        60      176315.3805           13.17s\n",
      "        70      166255.7610            9.64s\n",
      "        80      159546.2387            6.39s\n",
      "        90      153307.5116            3.18s\n",
      "       100      148946.2941            0.00s\n"
     ]
    }
   ],
   "source": [
    "gbr_fitted = gbr.fit(X_train, y_train)"
   ]
  },
  {
   "cell_type": "code",
   "execution_count": 70,
   "metadata": {
    "collapsed": false
   },
   "outputs": [
    {
     "data": {
      "text/plain": [
       "0.77475116238962427"
      ]
     },
     "execution_count": 70,
     "metadata": {},
     "output_type": "execute_result"
    }
   ],
   "source": [
    "gbr.score(X_test, y_test)"
   ]
  },
  {
   "cell_type": "code",
   "execution_count": 71,
   "metadata": {
    "collapsed": false
   },
   "outputs": [
    {
     "data": {
      "text/plain": [
       "[('temperaturef', 0.17890179117890534),\n",
       " ('dow', 0.11158108116580837),\n",
       " ('doy', 0.41029644779391),\n",
       " ('minute', 0.29922067986137668)]"
      ]
     },
     "execution_count": 71,
     "metadata": {},
     "output_type": "execute_result"
    }
   ],
   "source": [
    "zip(features, list(gbr.feature_importances_))"
   ]
  },
  {
   "cell_type": "code",
   "execution_count": 72,
   "metadata": {
    "collapsed": false
   },
   "outputs": [
    {
     "data": {
      "text/plain": [
       "<matplotlib.legend.Legend at 0x11120c510>"
      ]
     },
     "execution_count": 72,
     "metadata": {},
     "output_type": "execute_result"
    },
    {
     "data": {
      "image/png": "[encoded data removed]",
      "text/plain": [
       "<matplotlib.figure.Figure at 0x11120c450>"
      ]
     },
     "metadata": {},
     "output_type": "display_data"
    }
   ],
   "source": [
    "def deviance_plot(est, X_test, y_test, ax = None, label = '', train_color='#2c7bb6', test_color = '#d7191c', alpha= 1.0, ylim = (0,1000000)):\n",
    "\n",
    "    n_estimators = len(est.estimators_)\n",
    "    test_dev = np.empty(n_estimators)\n",
    "\n",
    "    for i, pred in enumerate(est.staged_predict(X_test)):\n",
    "        test_dev[i] = est.loss_(y_test, pred)\n",
    "\n",
    "    if ax is None:\n",
    "        fig = plt.figure(figsize = (12,8))\n",
    "        ax = plt.gca()\n",
    "\n",
    "    ax.plot(np.arange(n_estimators) + 1, test_dev, color= test_color, label = 'Test %s' % label, linewidth=2, alpha=alpha)\n",
    "    ax.plot(np.arange(n_estimators) + 1, est.train_score_, color = train_color, label= 'Train %s' % label, linewidth=2, alpha=alpha)\n",
    "    ax.set_ylabel('Error')\n",
    "    ax.set_xlabel('n_estimators')\n",
    "    ax.set_ylim(ylim)\n",
    "    return test_dev, ax\n",
    "\n",
    "test_dev, ax = deviance_plot(gbr, X_test, y_test)\n",
    "ax.legend(loc='upper right')\n",
    "\n",
    "# add some annotations\n",
    "# ax.annotate('Lowest test error', xy=(test_dev.argmin() + 1, test_dev.min() + 0.02),\n",
    "#             xytext=(150, 3.5), **annotation_kw)\n",
    "\n",
    "# ann = ax.annotate('', xy=(800, test_dev[799]),  xycoords='data',\n",
    "#                   xytext=(800, est.train_score_[799]), textcoords='data',\n",
    "#                   arrowprops={'arrowstyle': '<->'})\n",
    "# ax.text(810, 3.5, 'train-test gap')"
   ]
  },
  {
   "cell_type": "code",
   "execution_count": 73,
   "metadata": {
    "collapsed": true
   },
   "outputs": [],
   "source": [
    "import datetime"
   ]
  },
  {
   "cell_type": "code",
   "execution_count": 78,
   "metadata": {
    "collapsed": true
   },
   "outputs": [],
   "source": [
    "import flask"
   ]
  },
  {
   "cell_type": "code",
   "execution_count": null,
   "metadata": {
    "collapsed": true
   },
   "outputs": [],
   "source": []
  }
 ],
 "metadata": {
  "kernelspec": {
   "display_name": "Python 2",
   "language": "python",
   "name": "python2"
  },
  "language_info": {
   "codemirror_mode": {
    "name": "ipython",
    "version": 2
   },
   "file_extension": ".py",
   "mimetype": "text/x-python",
   "name": "python",
   "nbconvert_exporter": "python",
   "pygments_lexer": "ipython2",
   "version": "2.7.11"
  }
 },
 "nbformat": 4,
 "nbformat_minor": 0
}
