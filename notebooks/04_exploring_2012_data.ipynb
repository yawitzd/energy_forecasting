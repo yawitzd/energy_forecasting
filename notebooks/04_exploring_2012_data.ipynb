{
 "cells": [
  {
   "cell_type": "code",
   "execution_count": 1,
   "metadata": {
    "collapsed": false
   },
   "outputs": [
    {
     "name": "stdout",
     "output_type": "stream",
     "text": [
      "/Users/dyawitz/anaconda/envs/py27/bin/python\n"
     ]
    }
   ],
   "source": [
    "import sys\n",
    "print sys.executable\n",
    "\n",
    "paths = ['', '/Users/dyawitz/anaconda/bin', '/Users/dyawitz/anaconda/lib/python27.zip', '/Users/dyawitz/anaconda/lib/python2.7/plat-darwin', '/Users/dyawitz/anaconda/lib/python2.7/plat-mac', '/Users/dyawitz/anaconda/lib/python2.7/plat-mac/lib-scriptpackages', '/Users/dyawitz/anaconda/lib/python2.7/lib-tk', '/Users/dyawitz/anaconda/lib/python2.7/lib-old', '/Users/dyawitz/anaconda/lib/python2.7/lib-dynload', '/Users/dyawitz/anaconda/lib/python2.7/site-packages/Sphinx-1.3.1-py2.7.egg', '/Users/dyawitz/anaconda/lib/python2.7/site-packages/setuptools-18.5-py2.7.egg', '/Users/dyawitz/anaconda/lib/python2.7/site-packages', '/Users/dyawitz/anaconda/lib/python2.7/site-packages/aeosa', '/Users/dyawitz/anaconda/lib/python2.7/site-packages/IPython/extensions', '/Users/dyawitz/.ipython']\n",
    "\n",
    "for i in paths:\n",
    "   sys.path.append(i)"
   ]
  },
  {
   "cell_type": "code",
   "execution_count": 408,
   "metadata": {
    "collapsed": false
   },
   "outputs": [],
   "source": [
    "import pandas as pd\n",
    "import numpy as np\n",
    "import matplotlib.pyplot as plt\n",
    "%matplotlib inline"
   ]
  },
  {
   "cell_type": "markdown",
   "metadata": {},
   "source": [
    "### Import the 2012 subset of data"
   ]
  },
  {
   "cell_type": "code",
   "execution_count": 249,
   "metadata": {
    "collapsed": true
   },
   "outputs": [],
   "source": [
    "loads = pd.read_csv('load2012.csv')\n",
    "weather = pd.read_csv('weather2012.csv')"
   ]
  },
  {
   "cell_type": "markdown",
   "metadata": {},
   "source": [
    "# 1. Format datetime columns"
   ]
  },
  {
   "cell_type": "code",
   "execution_count": 250,
   "metadata": {
    "collapsed": false
   },
   "outputs": [],
   "source": [
    "weather['date'] = weather.dateutc.apply(lambda x: pd.to_datetime(x).date())\n",
    "weather['timeest'] = weather.timeest.apply(lambda x: pd.to_datetime(x).time())\n",
    "foo = weather[['date', 'timeest']].astype(str)\n",
    "weather['timestamp'] = pd.to_datetime(foo['date'] + ' ' + foo['timeest'])\n",
    "loads['timestamp'] = loads.timestamp.apply(lambda x: pd.to_datetime(x))"
   ]
  },
  {
   "cell_type": "markdown",
   "metadata": {},
   "source": [
    "# 2. Add weather data to loads data\n",
    "Weather data is on hourly intervals, loads data is every five minutes. This is a function to merge based on the nearest datetime, using K-nearest neighbors"
   ]
  },
  {
   "cell_type": "code",
   "execution_count": 255,
   "metadata": {
    "collapsed": false
   },
   "outputs": [],
   "source": [
    "from sklearn.neighbors import NearestNeighbors\n",
    "\n",
    "def find_nearest(group, match, groupname):\n",
    "    nbrs = NearestNeighbors(1).fit(match['timestamp'].values[:, None])\n",
    "    dist, ind = nbrs.kneighbors(group['timestamp'].values[:, None])\n",
    "\n",
    "    group['nearesttime'] = match['timestamp'].values[ind.ravel()]\n",
    "    return group"
   ]
  },
  {
   "cell_type": "code",
   "execution_count": 256,
   "metadata": {
    "collapsed": false
   },
   "outputs": [],
   "source": [
    "loads = find_nearest(loads,weather,'timestamp')"
   ]
  },
  {
   "cell_type": "code",
   "execution_count": 258,
   "metadata": {
    "collapsed": false
   },
   "outputs": [],
   "source": [
    "full = loads.merge(weather, left_on='nearesttime', right_on='timestamp')\n",
    "\n",
    "#Remove and rename redundant columns \n",
    "full = full[['timestamp_x', 'load', 'nearesttime', 'temperaturef', \\\n",
    "            'dewpointf', 'humidity', 'sealevelpressurein', 'winddirection', 'windspeedmph', \\\n",
    "            'precipitationin']].rename(columns={'timestamp_x': 'timestamp', 'nearesttime':'weathertime'})"
   ]
  },
  {
   "cell_type": "markdown",
   "metadata": {},
   "source": [
    "### *Checkpoint: export data to csv*"
   ]
  },
  {
   "cell_type": "code",
   "execution_count": 261,
   "metadata": {
    "collapsed": true
   },
   "outputs": [],
   "source": [
    "full.to_csv('full2012.csv', index=False)"
   ]
  },
  {
   "cell_type": "markdown",
   "metadata": {},
   "source": [
    "# 3. Create features"
   ]
  },
  {
   "cell_type": "markdown",
   "metadata": {},
   "source": [
    "Create new features based on the timeseries. These first features come from [Barta et al. 2015](http://arxiv.org/pdf/1506.06972.pdf), who applied probabalistic modeling techniques (such as Gradient-Boosting Regression) to forecast electricity prices:\n",
    "\n",
    "    `dow`: day of the week (integer 0-6)\n",
    "    `doy`: day of the year (integer 0-365)\n",
    "    `day`: day of the month (integer 1-31)\n",
    "    `woy`: week of the year (integer 1-52)\n",
    "    `month`: month of the year (integer 1-12)\n",
    "    `hour`: hour of the day (integer 0-23)\n",
    "    `minute`: minute of the day (integer 0-1339)\n",
    "    \n",
    "    `t_m24`: load value from 24 hours earlier\n",
    "    `t_m48`: load value from 48 hours earlier\n",
    "    `tdif`: difference between load and t_m24\n"
   ]
  },
  {
   "cell_type": "code",
   "execution_count": 362,
   "metadata": {
    "collapsed": true
   },
   "outputs": [],
   "source": [
    "#datetime value of one day\n",
    "pday = pd.Timedelta('1 day')\n",
    "\n",
    "def get_prev_days(x, n_days):\n",
    "    '''Take a datetime (x) in the 'full' dataframe, and outputs the load value n_days before that datetime'''\n",
    "    try:\n",
    "        lo = full[full.timestamp == x - n_days*pday].load.values[0]\n",
    "    except:\n",
    "        lo = full[full.timestamp == x].load.values[0]\n",
    "    return lo "
   ]
  },
  {
   "cell_type": "code",
   "execution_count": 361,
   "metadata": {
    "collapsed": false
   },
   "outputs": [],
   "source": [
    "full['dow'] = full.timestamp.apply(lambda x: x.dayofweek)\n",
    "full['doy'] = full.timestamp.apply(lambda x: x.dayofyear)\n",
    "full['day'] = full.timestamp.apply(lambda x: x.day)\n",
    "full['month'] = full.timestamp.apply(lambda x: x.month)\n",
    "full['hour'] = full.timestamp.apply(lambda x: x.hour)\n",
    "full['minute'] = full.timestamp.apply(lambda x: x.hour*60 + x.minute)\n",
    "\n",
    "full['t_m24'] = full.timestamp.apply(get_prev_days, args=(1,))\n",
    "full['t_m48'] = full.timestamp.apply(get_prev_days, args=(2,))\n",
    "full['tdif'] = full['load'] - full['t_m24']"
   ]
  },
  {
   "cell_type": "code",
   "execution_count": 364,
   "metadata": {
    "collapsed": true
   },
   "outputs": [],
   "source": [
    "full.to_csv('full2012_features.csv', index=False)"
   ]
  },
  {
   "cell_type": "markdown",
   "metadata": {},
   "source": [
    "# 4. Gradient Boosting Regression"
   ]
  },
  {
   "cell_type": "code",
   "execution_count": 366,
   "metadata": {
    "collapsed": true
   },
   "outputs": [],
   "source": [
    "from sklearn.ensemble import GradientBoostingRegressor\n",
    "from sklearn.cross_validation import train_test_split"
   ]
  },
  {
   "cell_type": "code",
   "execution_count": 367,
   "metadata": {
    "collapsed": false
   },
   "outputs": [
    {
     "data": {
      "text/plain": [
       "Index([u'timestamp', u'load', u'weathertime', u'temperaturef', u'dewpointf',\n",
       "       u'humidity', u'sealevelpressurein', u'winddirection', u'windspeedmph',\n",
       "       u'precipitationin', u'dow', u'doy', u'day', u'month', u'hour',\n",
       "       u'minute', u't_m24', u't_m48', u'tdif'],\n",
       "      dtype='object')"
      ]
     },
     "execution_count": 367,
     "metadata": {},
     "output_type": "execute_result"
    }
   ],
   "source": [
    "full.columns"
   ]
  },
  {
   "cell_type": "code",
   "execution_count": 463,
   "metadata": {
    "collapsed": false
   },
   "outputs": [],
   "source": [
    "X = full[[\\\n",
    "          'temperaturef',\\\n",
    "          'dewpointf', \\\n",
    "          'humidity', \\\n",
    "          'sealevelpressurein', \\\n",
    "         'windspeedmph', \\\n",
    "          'precipitationin',\\\n",
    "          'dow',\\\n",
    "          'doy', \\\n",
    "          'month',\\\n",
    "          'hour',\\\n",
    "         'minute',\\\n",
    "          't_m24', \\\n",
    "          't_m48', \\\n",
    "          'tdif'\\\n",
    "         ]]\n",
    "y = full['load']"
   ]
  },
  {
   "cell_type": "code",
   "execution_count": 464,
   "metadata": {
    "collapsed": true
   },
   "outputs": [],
   "source": [
    "X_train, X_test, y_train, y_test = train_test_split(X, y, test_size=0.33, random_state=42)"
   ]
  },
  {
   "cell_type": "code",
   "execution_count": 457,
   "metadata": {
    "collapsed": true
   },
   "outputs": [],
   "source": [
    "gbr = GradientBoostingRegressor(loss='ls', verbose=1, warm_start=True)"
   ]
  },
  {
   "cell_type": "code",
   "execution_count": 458,
   "metadata": {
    "collapsed": false
   },
   "outputs": [
    {
     "name": "stdout",
     "output_type": "stream",
     "text": [
      "      Iter       Train Loss   Remaining Time \n",
      "         1       54422.8242            9.84s\n",
      "         2       46096.6971           11.07s\n",
      "         3       39293.9887            9.98s\n",
      "         4       33773.5271            8.73s\n",
      "         5       29246.6397            8.50s\n",
      "         6       25568.6157            8.23s\n",
      "         7       22550.6621            7.98s\n",
      "         8       20025.1744            7.74s\n",
      "         9       17956.5337            7.52s\n",
      "        10       16236.3410            7.46s\n",
      "        20        9033.7561            5.55s\n",
      "        30        7353.5608            4.25s\n",
      "        40        6528.5173            3.39s\n",
      "        50        5909.5739            2.73s\n",
      "        60        5598.7196            2.08s\n",
      "        70        5323.0064            1.52s\n",
      "        80        5056.9857            1.08s\n",
      "        90        4865.8749            0.53s\n",
      "       100        4670.0520            0.00s\n"
     ]
    }
   ],
   "source": [
    "gbr_fitted = gbr.fit(X_train, y_train)"
   ]
  },
  {
   "cell_type": "code",
   "execution_count": 459,
   "metadata": {
    "collapsed": false
   },
   "outputs": [
    {
     "data": {
      "text/plain": [
       "0.92513322840797652"
      ]
     },
     "execution_count": 459,
     "metadata": {},
     "output_type": "execute_result"
    }
   ],
   "source": [
    "gbr.score(X_test, y_test)"
   ]
  },
  {
   "cell_type": "code",
   "execution_count": 460,
   "metadata": {
    "collapsed": false
   },
   "outputs": [
    {
     "data": {
      "text/plain": [
       "0.92779521041729107"
      ]
     },
     "execution_count": 460,
     "metadata": {},
     "output_type": "execute_result"
    }
   ],
   "source": [
    "gbr.score(X_train, y_train)"
   ]
  },
  {
   "cell_type": "markdown",
   "metadata": {},
   "source": [
    "# 5. Ordinary Least Squares Regression"
   ]
  },
  {
   "cell_type": "code",
   "execution_count": 465,
   "metadata": {
    "collapsed": false
   },
   "outputs": [
    {
     "data": {
      "text/html": [
       "<table class=\"simpletable\">\n",
       "<caption>OLS Regression Results</caption>\n",
       "<tr>\n",
       "  <th>Dep. Variable:</th>          <td>load</td>       <th>  R-squared:         </th>  <td>   0.996</td>  \n",
       "</tr>\n",
       "<tr>\n",
       "  <th>Model:</th>                   <td>OLS</td>       <th>  Adj. R-squared:    </th>  <td>   0.996</td>  \n",
       "</tr>\n",
       "<tr>\n",
       "  <th>Method:</th>             <td>Least Squares</td>  <th>  F-statistic:       </th>  <td>1.856e+06</td> \n",
       "</tr>\n",
       "<tr>\n",
       "  <th>Date:</th>             <td>Wed, 16 Mar 2016</td> <th>  Prob (F-statistic):</th>   <td>  0.00</td>   \n",
       "</tr>\n",
       "<tr>\n",
       "  <th>Time:</th>                 <td>16:19:54</td>     <th>  Log-Likelihood:    </th> <td>-6.3477e+05</td>\n",
       "</tr>\n",
       "<tr>\n",
       "  <th>No. Observations:</th>      <td>107000</td>      <th>  AIC:               </th>  <td>1.270e+06</td> \n",
       "</tr>\n",
       "<tr>\n",
       "  <th>Df Residuals:</th>          <td>106987</td>      <th>  BIC:               </th>  <td>1.270e+06</td> \n",
       "</tr>\n",
       "<tr>\n",
       "  <th>Df Model:</th>              <td>    13</td>      <th>                     </th>      <td> </td>     \n",
       "</tr>\n",
       "<tr>\n",
       "  <th>Covariance Type:</th>      <td>nonrobust</td>    <th>                     </th>      <td> </td>     \n",
       "</tr>\n",
       "</table>\n",
       "<table class=\"simpletable\">\n",
       "<tr>\n",
       "           <td></td>             <th>coef</th>     <th>std err</th>      <th>t</th>      <th>P>|t|</th> <th>[95.0% Conf. Int.]</th> \n",
       "</tr>\n",
       "<tr>\n",
       "  <th>temperaturef</th>       <td>   -1.3140</td> <td>    0.172</td> <td>   -7.626</td> <td> 0.000</td> <td>   -1.652    -0.976</td>\n",
       "</tr>\n",
       "<tr>\n",
       "  <th>dewpointf</th>          <td>    1.9076</td> <td>    0.183</td> <td>   10.447</td> <td> 0.000</td> <td>    1.550     2.265</td>\n",
       "</tr>\n",
       "<tr>\n",
       "  <th>humidity</th>           <td>   -1.0322</td> <td>    0.080</td> <td>  -12.865</td> <td> 0.000</td> <td>   -1.189    -0.875</td>\n",
       "</tr>\n",
       "<tr>\n",
       "  <th>sealevelpressurein</th> <td>    8.2132</td> <td>    0.246</td> <td>   33.328</td> <td> 0.000</td> <td>    7.730     8.696</td>\n",
       "</tr>\n",
       "<tr>\n",
       "  <th>windspeedmph</th>       <td>    0.4577</td> <td>    0.054</td> <td>    8.522</td> <td> 0.000</td> <td>    0.352     0.563</td>\n",
       "</tr>\n",
       "<tr>\n",
       "  <th>precipitationin</th>    <td>  -51.7532</td> <td>   11.751</td> <td>   -4.404</td> <td> 0.000</td> <td>  -74.785   -28.721</td>\n",
       "</tr>\n",
       "<tr>\n",
       "  <th>dow</th>                <td>  -16.3734</td> <td>    0.145</td> <td> -113.264</td> <td> 0.000</td> <td>  -16.657   -16.090</td>\n",
       "</tr>\n",
       "<tr>\n",
       "  <th>doy</th>                <td>    0.0893</td> <td>    0.032</td> <td>    2.824</td> <td> 0.005</td> <td>    0.027     0.151</td>\n",
       "</tr>\n",
       "<tr>\n",
       "  <th>month</th>              <td>   -2.4457</td> <td>    0.970</td> <td>   -2.522</td> <td> 0.012</td> <td>   -4.346    -0.545</td>\n",
       "</tr>\n",
       "<tr>\n",
       "  <th>hour</th>               <td>    1.7808</td> <td>    0.970</td> <td>    1.835</td> <td> 0.066</td> <td>   -0.121     3.683</td>\n",
       "</tr>\n",
       "<tr>\n",
       "  <th>minute</th>             <td>   -0.0007</td> <td>    0.016</td> <td>   -0.042</td> <td> 0.967</td> <td>   -0.032     0.031</td>\n",
       "</tr>\n",
       "<tr>\n",
       "  <th>t_m24</th>              <td>    0.8563</td> <td>    0.003</td> <td>  290.160</td> <td> 0.000</td> <td>    0.851     0.862</td>\n",
       "</tr>\n",
       "<tr>\n",
       "  <th>t_m48</th>              <td>    0.0259</td> <td>    0.003</td> <td>    8.694</td> <td> 0.000</td> <td>    0.020     0.032</td>\n",
       "</tr>\n",
       "</table>\n",
       "<table class=\"simpletable\">\n",
       "<tr>\n",
       "  <th>Omnibus:</th>       <td>11294.270</td> <th>  Durbin-Watson:     </th> <td>   0.074</td> \n",
       "</tr>\n",
       "<tr>\n",
       "  <th>Prob(Omnibus):</th>  <td> 0.000</td>   <th>  Jarque-Bera (JB):  </th> <td>40839.219</td>\n",
       "</tr>\n",
       "<tr>\n",
       "  <th>Skew:</th>           <td> 0.509</td>   <th>  Prob(JB):          </th> <td>    0.00</td> \n",
       "</tr>\n",
       "<tr>\n",
       "  <th>Kurtosis:</th>       <td> 5.850</td>   <th>  Cond. No.          </th> <td>8.81e+04</td> \n",
       "</tr>\n",
       "</table>"
      ],
      "text/plain": [
       "<class 'statsmodels.iolib.summary.Summary'>\n",
       "\"\"\"\n",
       "                            OLS Regression Results                            \n",
       "==============================================================================\n",
       "Dep. Variable:                   load   R-squared:                       0.996\n",
       "Model:                            OLS   Adj. R-squared:                  0.996\n",
       "Method:                 Least Squares   F-statistic:                 1.856e+06\n",
       "Date:                Wed, 16 Mar 2016   Prob (F-statistic):               0.00\n",
       "Time:                        16:19:54   Log-Likelihood:            -6.3477e+05\n",
       "No. Observations:              107000   AIC:                         1.270e+06\n",
       "Df Residuals:                  106987   BIC:                         1.270e+06\n",
       "Df Model:                          13                                         \n",
       "Covariance Type:            nonrobust                                         \n",
       "======================================================================================\n",
       "                         coef    std err          t      P>|t|      [95.0% Conf. Int.]\n",
       "--------------------------------------------------------------------------------------\n",
       "temperaturef          -1.3140      0.172     -7.626      0.000        -1.652    -0.976\n",
       "dewpointf              1.9076      0.183     10.447      0.000         1.550     2.265\n",
       "humidity              -1.0322      0.080    -12.865      0.000        -1.189    -0.875\n",
       "sealevelpressurein     8.2132      0.246     33.328      0.000         7.730     8.696\n",
       "windspeedmph           0.4577      0.054      8.522      0.000         0.352     0.563\n",
       "precipitationin      -51.7532     11.751     -4.404      0.000       -74.785   -28.721\n",
       "dow                  -16.3734      0.145   -113.264      0.000       -16.657   -16.090\n",
       "doy                    0.0893      0.032      2.824      0.005         0.027     0.151\n",
       "month                 -2.4457      0.970     -2.522      0.012        -4.346    -0.545\n",
       "hour                   1.7808      0.970      1.835      0.066        -0.121     3.683\n",
       "minute                -0.0007      0.016     -0.042      0.967        -0.032     0.031\n",
       "t_m24                  0.8563      0.003    290.160      0.000         0.851     0.862\n",
       "t_m48                  0.0259      0.003      8.694      0.000         0.020     0.032\n",
       "==============================================================================\n",
       "Omnibus:                    11294.270   Durbin-Watson:                   0.074\n",
       "Prob(Omnibus):                  0.000   Jarque-Bera (JB):            40839.219\n",
       "Skew:                           0.509   Prob(JB):                         0.00\n",
       "Kurtosis:                       5.850   Cond. No.                     8.81e+04\n",
       "==============================================================================\n",
       "\n",
       "Warnings:\n",
       "[1] Standard Errors assume that the covariance matrix of the errors is correctly specified.\n",
       "[2] The condition number is large, 8.81e+04. This might indicate that there are\n",
       "strong multicollinearity or other numerical problems.\n",
       "\"\"\""
      ]
     },
     "execution_count": 465,
     "metadata": {},
     "output_type": "execute_result"
    }
   ],
   "source": [
    "import statsmodels.api as sm\n",
    "\n",
    "model = sm.OLS(y,X)\n",
    "results = model.fit()\n",
    "results.summary()"
   ]
  },
  {
   "cell_type": "code",
   "execution_count": 416,
   "metadata": {
    "collapsed": false
   },
   "outputs": [
    {
     "data": {
      "text/plain": [
       "[<matplotlib.lines.Line2D at 0x12646d190>]"
      ]
     },
     "execution_count": 416,
     "metadata": {},
     "output_type": "execute_result"
    },
    {
     "data": {
      "image/png": "[encoded data removed]",
      "text/plain": [
       "<matplotlib.figure.Figure at 0x123dc5b50>"
      ]
     },
     "metadata": {},
     "output_type": "display_data"
    }
   ],
   "source": [
    "from sklearn.metrics import mean_squared_error\n",
    "from sklearn.linear_model import Ridge\n",
    "\n",
    "avg_MSE = []\n",
    "alphas = np.linspace(-2, 8, 20, endpoint=False)\n",
    "alphas\n",
    "for alpha in alphas:\n",
    "    MSE = []\n",
    "    for i in range(20):\n",
    "#     X_train, X_test, y_train, y_test = train_test_split(X, y, test_size=0.2, random_state=20)\n",
    "#     model = sm.OLS(X_train, y_train)\n",
    "        model = Ridge(alpha=alpha)\n",
    "        model.fit(X_test, y_test)\n",
    "        test_error = mean_squared_error(y_test, model.predict(X_test))\n",
    "        MSE.append(test_error)\n",
    "    avg_MSE.append(np.mean(MSE))\n",
    "\n",
    "plt.figure(figsize=(6,2))\n",
    "plt.xlabel('alpha', fontsize=14)\n",
    "plt.ylabel('Cross Validation MSE', fontsize=11)\n",
    "plt.title('alpha vs. Cross Validation MSE', fontsize=11)\n",
    "plt.plot(alphas, avg_MSE)"
   ]
  },
  {
   "cell_type": "code",
   "execution_count": null,
   "metadata": {
    "collapsed": true
   },
   "outputs": [],
   "source": []
  }
 ],
 "metadata": {
  "kernelspec": {
   "display_name": "Python 2",
   "language": "python",
   "name": "python2"
  },
  "language_info": {
   "codemirror_mode": {
    "name": "ipython",
    "version": 2
   },
   "file_extension": ".py",
   "mimetype": "text/x-python",
   "name": "python",
   "nbconvert_exporter": "python",
   "pygments_lexer": "ipython2",
   "version": "2.7.11"
  }
 },
 "nbformat": 4,
 "nbformat_minor": 0
}
