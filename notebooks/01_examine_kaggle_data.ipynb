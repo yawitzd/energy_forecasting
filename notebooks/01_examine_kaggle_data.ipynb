{
 "cells": [
  {
   "cell_type": "code",
   "execution_count": 1,
   "metadata": {
    "collapsed": false
   },
   "outputs": [
    {
     "name": "stdout",
     "output_type": "stream",
     "text": [
      "/Users/dyawitz/anaconda/envs/py27/bin/python\n"
     ]
    }
   ],
   "source": [
    "import sys\n",
    "print sys.executable\n",
    "\n",
    "paths = ['', '/Users/dyawitz/anaconda/bin', '/Users/dyawitz/anaconda/lib/python27.zip', '/Users/dyawitz/anaconda/lib/python2.7/plat-darwin', '/Users/dyawitz/anaconda/lib/python2.7/plat-mac', '/Users/dyawitz/anaconda/lib/python2.7/plat-mac/lib-scriptpackages', '/Users/dyawitz/anaconda/lib/python2.7/lib-tk', '/Users/dyawitz/anaconda/lib/python2.7/lib-old', '/Users/dyawitz/anaconda/lib/python2.7/lib-dynload', '/Users/dyawitz/anaconda/lib/python2.7/site-packages/Sphinx-1.3.1-py2.7.egg', '/Users/dyawitz/anaconda/lib/python2.7/site-packages/setuptools-18.5-py2.7.egg', '/Users/dyawitz/anaconda/lib/python2.7/site-packages', '/Users/dyawitz/anaconda/lib/python2.7/site-packages/aeosa', '/Users/dyawitz/anaconda/lib/python2.7/site-packages/IPython/extensions', '/Users/dyawitz/.ipython']\n",
    "\n",
    "for i in paths:\n",
    "   sys.path.append(i)"
   ]
  },
  {
   "cell_type": "code",
   "execution_count": 2,
   "metadata": {
    "collapsed": false
   },
   "outputs": [],
   "source": [
    "import pandas as pd\n",
    "import numpy as np\n",
    "import matplotlib.pyplot as plt"
   ]
  },
  {
   "cell_type": "markdown",
   "metadata": {},
   "source": [
    "### Voltage load data (kW)"
   ]
  },
  {
   "cell_type": "code",
   "execution_count": 26,
   "metadata": {
    "collapsed": false
   },
   "outputs": [],
   "source": [
    "loads = pd.read_csv('../data/load_history.csv')"
   ]
  },
  {
   "cell_type": "markdown",
   "metadata": {},
   "source": [
    "columns h1 - h24 are times of day. Data ranges from Jan 2004 - July 2008"
   ]
  },
  {
   "cell_type": "code",
   "execution_count": 27,
   "metadata": {
    "collapsed": false
   },
   "outputs": [],
   "source": [
    "loads['date'] = pd.to_datetime(loads.year*10000+loads.month*100+loads.day,format='%Y%m%d')\n",
    "loads = loads[[u'zone_id', u'date', u'h1', u'h2', u'h3', u'h4',\n",
    "    u'h5', u'h6', u'h7', u'h8', u'h9', u'h10', u'h11', u'h12', u'h13',\n",
    "       u'h14', u'h15', u'h16', u'h17', u'h18', u'h19', u'h20', u'h21', u'h22',\n",
    "       u'h23', u'h24']]"
   ]
  },
  {
   "cell_type": "code",
   "execution_count": 39,
   "metadata": {
    "collapsed": false
   },
   "outputs": [
    {
     "data": {
      "text/html": [
       "<div>\n",
       "<table border=\"1\" class=\"dataframe\">\n",
       "  <thead>\n",
       "    <tr style=\"text-align: right;\">\n",
       "      <th></th>\n",
       "      <th>zone_id</th>\n",
       "      <th>date</th>\n",
       "      <th>h1</th>\n",
       "      <th>h2</th>\n",
       "      <th>h3</th>\n",
       "      <th>h4</th>\n",
       "      <th>h5</th>\n",
       "      <th>h6</th>\n",
       "      <th>h7</th>\n",
       "      <th>h8</th>\n",
       "      <th>...</th>\n",
       "      <th>h15</th>\n",
       "      <th>h16</th>\n",
       "      <th>h17</th>\n",
       "      <th>h18</th>\n",
       "      <th>h19</th>\n",
       "      <th>h20</th>\n",
       "      <th>h21</th>\n",
       "      <th>h22</th>\n",
       "      <th>h23</th>\n",
       "      <th>h24</th>\n",
       "    </tr>\n",
       "  </thead>\n",
       "  <tbody>\n",
       "    <tr>\n",
       "      <th>0</th>\n",
       "      <td>1</td>\n",
       "      <td>2004-01-01</td>\n",
       "      <td>16,853</td>\n",
       "      <td>16,450</td>\n",
       "      <td>16,517</td>\n",
       "      <td>16,873</td>\n",
       "      <td>17,064</td>\n",
       "      <td>17,727</td>\n",
       "      <td>18,574</td>\n",
       "      <td>19,355</td>\n",
       "      <td>...</td>\n",
       "      <td>13,518</td>\n",
       "      <td>13,138</td>\n",
       "      <td>14,130</td>\n",
       "      <td>16,809</td>\n",
       "      <td>18,150</td>\n",
       "      <td>18,235</td>\n",
       "      <td>17,925</td>\n",
       "      <td>16,904</td>\n",
       "      <td>16,162</td>\n",
       "      <td>14,750</td>\n",
       "    </tr>\n",
       "    <tr>\n",
       "      <th>1</th>\n",
       "      <td>1</td>\n",
       "      <td>2004-01-02</td>\n",
       "      <td>14,155</td>\n",
       "      <td>14,038</td>\n",
       "      <td>14,019</td>\n",
       "      <td>14,489</td>\n",
       "      <td>14,920</td>\n",
       "      <td>16,072</td>\n",
       "      <td>17,800</td>\n",
       "      <td>19,089</td>\n",
       "      <td>...</td>\n",
       "      <td>16,127</td>\n",
       "      <td>15,448</td>\n",
       "      <td>15,839</td>\n",
       "      <td>17,727</td>\n",
       "      <td>18,895</td>\n",
       "      <td>18,650</td>\n",
       "      <td>18,443</td>\n",
       "      <td>17,580</td>\n",
       "      <td>16,467</td>\n",
       "      <td>15,258</td>\n",
       "    </tr>\n",
       "  </tbody>\n",
       "</table>\n",
       "<p>2 rows × 26 columns</p>\n",
       "</div>"
      ],
      "text/plain": [
       "   zone_id       date      h1      h2      h3      h4      h5      h6      h7  \\\n",
       "0        1 2004-01-01  16,853  16,450  16,517  16,873  17,064  17,727  18,574   \n",
       "1        1 2004-01-02  14,155  14,038  14,019  14,489  14,920  16,072  17,800   \n",
       "\n",
       "       h8   ...       h15     h16     h17     h18     h19     h20     h21  \\\n",
       "0  19,355   ...    13,518  13,138  14,130  16,809  18,150  18,235  17,925   \n",
       "1  19,089   ...    16,127  15,448  15,839  17,727  18,895  18,650  18,443   \n",
       "\n",
       "      h22     h23     h24  \n",
       "0  16,904  16,162  14,750  \n",
       "1  17,580  16,467  15,258  \n",
       "\n",
       "[2 rows x 26 columns]"
      ]
     },
     "execution_count": 39,
     "metadata": {},
     "output_type": "execute_result"
    }
   ],
   "source": [
    "loads.head(2)"
   ]
  },
  {
   "cell_type": "markdown",
   "metadata": {},
   "source": [
    "### Temperature data"
   ]
  },
  {
   "cell_type": "code",
   "execution_count": 29,
   "metadata": {
    "collapsed": true
   },
   "outputs": [],
   "source": [
    "temps = pd.read_csv('../data/temperature_history.csv')"
   ]
  },
  {
   "cell_type": "code",
   "execution_count": 36,
   "metadata": {
    "collapsed": false
   },
   "outputs": [],
   "source": [
    "temps['date'] = pd.to_datetime(temps.year*10000+temps.month*100+temps.day,format='%Y%m%d')\n",
    "temps = temps[[u'station_id', u'date', u'h1', u'h2', u'h3', u'h4',\n",
    "    u'h5', u'h6', u'h7', u'h8', u'h9', u'h10', u'h11', u'h12', u'h13',\n",
    "       u'h14', u'h15', u'h16', u'h17', u'h18', u'h19', u'h20', u'h21', u'h22',\n",
    "       u'h23', u'h24']]"
   ]
  },
  {
   "cell_type": "code",
   "execution_count": 38,
   "metadata": {
    "collapsed": false
   },
   "outputs": [
    {
     "data": {
      "text/html": [
       "<div>\n",
       "<table border=\"1\" class=\"dataframe\">\n",
       "  <thead>\n",
       "    <tr style=\"text-align: right;\">\n",
       "      <th></th>\n",
       "      <th>station_id</th>\n",
       "      <th>date</th>\n",
       "      <th>h1</th>\n",
       "      <th>h2</th>\n",
       "      <th>h3</th>\n",
       "      <th>h4</th>\n",
       "      <th>h5</th>\n",
       "      <th>h6</th>\n",
       "      <th>h7</th>\n",
       "      <th>h8</th>\n",
       "      <th>...</th>\n",
       "      <th>h15</th>\n",
       "      <th>h16</th>\n",
       "      <th>h17</th>\n",
       "      <th>h18</th>\n",
       "      <th>h19</th>\n",
       "      <th>h20</th>\n",
       "      <th>h21</th>\n",
       "      <th>h22</th>\n",
       "      <th>h23</th>\n",
       "      <th>h24</th>\n",
       "    </tr>\n",
       "  </thead>\n",
       "  <tbody>\n",
       "    <tr>\n",
       "      <th>0</th>\n",
       "      <td>1</td>\n",
       "      <td>2004-01-01</td>\n",
       "      <td>46</td>\n",
       "      <td>46</td>\n",
       "      <td>45</td>\n",
       "      <td>41</td>\n",
       "      <td>39</td>\n",
       "      <td>35</td>\n",
       "      <td>33</td>\n",
       "      <td>33</td>\n",
       "      <td>...</td>\n",
       "      <td>55</td>\n",
       "      <td>55</td>\n",
       "      <td>52</td>\n",
       "      <td>46</td>\n",
       "      <td>40</td>\n",
       "      <td>40</td>\n",
       "      <td>39</td>\n",
       "      <td>38</td>\n",
       "      <td>40</td>\n",
       "      <td>41</td>\n",
       "    </tr>\n",
       "    <tr>\n",
       "      <th>1</th>\n",
       "      <td>1</td>\n",
       "      <td>2004-01-02</td>\n",
       "      <td>43</td>\n",
       "      <td>44</td>\n",
       "      <td>46</td>\n",
       "      <td>46</td>\n",
       "      <td>47</td>\n",
       "      <td>47</td>\n",
       "      <td>47</td>\n",
       "      <td>47</td>\n",
       "      <td>...</td>\n",
       "      <td>54</td>\n",
       "      <td>56</td>\n",
       "      <td>57</td>\n",
       "      <td>53</td>\n",
       "      <td>50</td>\n",
       "      <td>47</td>\n",
       "      <td>46</td>\n",
       "      <td>45</td>\n",
       "      <td>45</td>\n",
       "      <td>45</td>\n",
       "    </tr>\n",
       "  </tbody>\n",
       "</table>\n",
       "<p>2 rows × 26 columns</p>\n",
       "</div>"
      ],
      "text/plain": [
       "   station_id       date  h1  h2  h3  h4  h5  h6  h7  h8 ...   h15  h16  h17  \\\n",
       "0           1 2004-01-01  46  46  45  41  39  35  33  33 ...    55   55   52   \n",
       "1           1 2004-01-02  43  44  46  46  47  47  47  47 ...    54   56   57   \n",
       "\n",
       "   h18  h19  h20  h21  h22  h23  h24  \n",
       "0   46   40   40   39   38   40   41  \n",
       "1   53   50   47   46   45   45   45  \n",
       "\n",
       "[2 rows x 26 columns]"
      ]
     },
     "execution_count": 38,
     "metadata": {},
     "output_type": "execute_result"
    }
   ],
   "source": [
    "temps.head(2)"
   ]
  },
  {
   "cell_type": "code",
   "execution_count": null,
   "metadata": {
    "collapsed": true
   },
   "outputs": [],
   "source": []
  }
 ],
 "metadata": {
  "kernelspec": {
   "display_name": "Python 2",
   "language": "python",
   "name": "python2"
  },
  "language_info": {
   "codemirror_mode": {
    "name": "ipython",
    "version": 2
   },
   "file_extension": ".py",
   "mimetype": "text/x-python",
   "name": "python",
   "nbconvert_exporter": "python",
   "pygments_lexer": "ipython2",
   "version": "2.7.11"
  }
 },
 "nbformat": 4,
 "nbformat_minor": 0
}
